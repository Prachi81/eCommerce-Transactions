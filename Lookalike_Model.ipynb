{
  "nbformat": 4,
  "nbformat_minor": 0,
  "metadata": {
    "colab": {
      "provenance": []
    },
    "kernelspec": {
      "name": "python3",
      "display_name": "Python 3"
    },
    "language_info": {
      "name": "python"
    }
  },
  "cells": [
    {
      "cell_type": "code",
      "execution_count": 1,
      "metadata": {
        "id": "e8WcDs0oMwJi"
      },
      "outputs": [],
      "source": [
        "import pandas as pd\n",
        "from sklearn.preprocessing import StandardScaler\n",
        "from sklearn.metrics.pairwise import cosine_similarity\n",
        "import numpy as np\n",
        "\n",
        "customers_file = \"/content/Customers.csv\"\n",
        "transactions_file = \"/content/Transactions - Transactions.csv\"\n",
        "\n",
        "customers_df = pd.read_csv(customers_file)\n",
        "transactions_df = pd.read_csv(transactions_file)"
      ]
    },
    {
      "cell_type": "code",
      "source": [
        "customer_transactions = transactions_df.merge(customers_df, on=\"CustomerID\")\n",
        "\n",
        "# Aggregate transaction data per customer (Total Spend, Average Spend, Number of Purchases)\n",
        "customer_summary = customer_transactions.groupby(\"CustomerID\").agg(\n",
        "    total_spent=(\"TotalValue\", \"sum\"),\n",
        "    avg_spent=(\"TotalValue\", \"mean\"),\n",
        "    num_purchases=(\"TransactionID\", \"count\")\n",
        ").reset_index()"
      ],
      "metadata": {
        "id": "XkV2yDQ6M26E"
      },
      "execution_count": 2,
      "outputs": []
    },
    {
      "cell_type": "code",
      "source": [
        "# Normalize data for similarity calculations\n",
        "scaler = StandardScaler()\n",
        "customer_summary_scaled = scaler.fit_transform(customer_summary.iloc[:, 1:])\n",
        "\n",
        "similarity_matrix = cosine_similarity(customer_summary_scaled)\n",
        "\n",
        "lookalike_results = {}\n",
        "customer_ids = customer_summary[\"CustomerID\"].values\n",
        "\n",
        "for i in range(20):\n",
        "    customer_id = customer_ids[i]\n",
        "    similarity_scores = similarity_matrix[i]\n",
        "    similar_customers = np.argsort(similarity_scores)[::-1][1:4]\n",
        "    lookalike_results[customer_id] = [(customer_ids[j], round(similarity_scores[j], 3)) for j in similar_customers]\n"
      ],
      "metadata": {
        "id": "_qruLx47NDN0"
      },
      "execution_count": 3,
      "outputs": []
    },
    {
      "cell_type": "code",
      "source": [
        "lookalike_df = pd.DataFrame(lookalike_results.items(), columns=[\"CustomerID\", \"Lookalikes\"])\n",
        "lookalike_df.to_csv(\"Lookalike.csv\", index=False)\n",
        "\n",
        "print(lookalike_df.head())"
      ],
      "metadata": {
        "colab": {
          "base_uri": "https://localhost:8080/"
        },
        "id": "jAg3KqSLNFTl",
        "outputId": "43f477c1-950e-4e38-cac6-b0370e5f6e61"
      },
      "execution_count": 4,
      "outputs": [
        {
          "output_type": "stream",
          "name": "stdout",
          "text": [
            "  CustomerID                                        Lookalikes\n",
            "0      C0001  [(C0137, 0.999), (C0152, 0.996), (C0121, 0.993)]\n",
            "1      C0002    [(C0029, 1.0), (C0199, 0.999), (C0010, 0.999)]\n",
            "2      C0003      [(C0005, 1.0), (C0178, 1.0), (C0144, 0.999)]\n",
            "3      C0004      [(C0067, 1.0), (C0021, 1.0), (C0075, 0.999)]\n",
            "4      C0005    [(C0003, 1.0), (C0073, 0.999), (C0063, 0.999)]\n"
          ]
        }
      ]
    }
  ]
}